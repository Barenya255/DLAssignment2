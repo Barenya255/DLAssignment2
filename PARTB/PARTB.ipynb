{
  "cells": [
    {
      "cell_type": "code",
      "execution_count": null,
      "id": "55390e37",
      "metadata": {
        "colab": {
          "base_uri": "https://localhost:8080/"
        },
        "id": "55390e37",
        "outputId": "ff6057f8-e727-4c59-b6be-2a344315fb69"
      },
      "outputs": [
        {
          "name": "stdout",
          "output_type": "stream",
          "text": [
            "--2023-04-10 18:22:57--  https://storage.googleapis.com/wandb_datasets/nature_12K.zip\n",
            "Resolving storage.googleapis.com (storage.googleapis.com)... 172.217.219.128, 209.85.147.128, 142.250.125.128, ...\n",
            "Connecting to storage.googleapis.com (storage.googleapis.com)|172.217.219.128|:443... connected.\n",
            "HTTP request sent, awaiting response... 200 OK\n",
            "Length: 3816687935 (3.6G) [application/zip]\n",
            "Saving to: ‘nature_12K.zip’\n",
            "\n",
            "nature_12K.zip      100%[===================>]   3.55G   146MB/s    in 19s     \n",
            "\n",
            "2023-04-10 18:23:16 (193 MB/s) - ‘nature_12K.zip’ saved [3816687935/3816687935]\n",
            "\n"
          ]
        }
      ],
      "source": [
        "''' all the imports necessary are done here.'''\n",
        "\n",
        "import torch\n",
        "import torch.nn as nn\n",
        "from torchvision import datasets, transforms\n",
        "from math import ceil as ceil\n",
        "import matplotlib.pyplot as plt\n",
        "from tqdm.auto import tqdm\n",
        "from torchvision.models import ViT_B_16_Weights\n",
        "import torchvision\n",
        "\n",
        "# Downloading the data and unzipping the same.\n",
        "!wget https://storage.googleapis.com/wandb_datasets/nature_12K.zip\n",
        "!unzip -q nature_12K.zip"
      ]
    },
    {
      "cell_type": "markdown",
      "id": "cFqUDJxRv4IE",
      "metadata": {
        "id": "cFqUDJxRv4IE"
      },
      "source": [
        "We are using the Vision Transformer model. \n",
        "- It appears to be more data hungry than resnet but yet it gives a good enough validation accuracy (better than resnet). \n",
        "- It has had better testing accuracy over ImageNet as compared to the other pretrained models.\n",
        "- However being an NLP based model, it can be slower to train.\n",
        "- Dropout layer (torch.nn.Dropout) has been added to reduce overfitting"
      ]
    },
    {
      "cell_type": "code",
      "execution_count": null,
      "id": "pMgeV4CMMZ5Y",
      "metadata": {
        "colab": {
          "base_uri": "https://localhost:8080/"
        },
        "id": "pMgeV4CMMZ5Y",
        "outputId": "56955697-f7d5-403f-f098-4067378a2159"
      },
      "outputs": [
        {
          "name": "stderr",
          "output_type": "stream",
          "text": [
            "Downloading: \"https://download.pytorch.org/models/vit_b_16-c867db91.pth\" to /root/.cache/torch/hub/checkpoints/vit_b_16-c867db91.pth\n",
            "100%|██████████| 330M/330M [00:04<00:00, 80.4MB/s]\n"
          ]
        }
      ],
      "source": [
        "# setting up autotransforms for the vision transformer model. The auto transforms will be used to preprocess the images so as to make them compatible.\n",
        "\n",
        "weights = ViT_B_16_Weights.DEFAULT\n",
        "auto_transforms = weights.transforms()\n",
        "\n",
        "# device selection code. If GPU available, choose it, else stick to CPU.\n",
        "device = \"cuda\" if torch.cuda.is_available() else \"cpu\"\n",
        "\n",
        "#import the model.\n",
        "model = torchvision.models.vit_b_16(weights=weights).to(device)\n",
        "\n",
        "#Freeze the parameters.\n",
        "for params in model.parameters():\n",
        "    params.requires_grad=False\n",
        "\n",
        "# Modify the last layer so as to fit the output space.\n",
        "lastLayer = model.heads.head.in_features\n",
        "\n",
        "# add Dropout so as to prevent overFitting.\n",
        "model.heads.head = nn.Sequential(nn.Dropout(p=0.5), nn.Linear(lastLayer,10))\n",
        "model.to(device) \n",
        "\n",
        "#set the loss function\n",
        "loss_fn = nn.CrossEntropyLoss()\n",
        "\n",
        "# set the optimizer to Addam with a learning rate of 0.0001\n",
        "optimizer = torch.optim.Adam(model.parameters(), lr = 0.0001)\n"
      ]
    },
    {
      "cell_type": "markdown",
      "id": "mJzuOS4AwitU",
      "metadata": {
        "id": "mJzuOS4AwitU"
      },
      "source": [
        "Using datasets.ImageFolder from torch framework to import the dataset.\n",
        "- autotransformer used to process the data to make it similar to the ImageNet dataset on which the pretrained network has been trained on.\n",
        "- The same has been done to the test data and both are taking data from folders mentioned in the root file path"
      ]
    },
    {
      "cell_type": "code",
      "execution_count": null,
      "id": "lWdNd6CpdGiR",
      "metadata": {
        "colab": {
          "base_uri": "https://localhost:8080/"
        },
        "id": "lWdNd6CpdGiR",
        "outputId": "cc60833a-61d1-4d8d-e510-b424711b0d2e"
      },
      "outputs": [
        {
          "name": "stdout",
          "output_type": "stream",
          "text": [
            "train data : Dataset ImageFolder\n",
            "    Number of datapoints: 9999\n",
            "    Root location: inaturalist_12K/train\n",
            "    StandardTransform\n",
            "Transform: ImageClassification(\n",
            "               crop_size=[224]\n",
            "               resize_size=[256]\n",
            "               mean=[0.485, 0.456, 0.406]\n",
            "               std=[0.229, 0.224, 0.225]\n",
            "               interpolation=InterpolationMode.BILINEAR\n",
            "           ) and test data : Dataset ImageFolder\n",
            "    Number of datapoints: 2000\n",
            "    Root location: inaturalist_12K/val\n",
            "    StandardTransform\n",
            "Transform: ImageClassification(\n",
            "               crop_size=[224]\n",
            "               resize_size=[256]\n",
            "               mean=[0.485, 0.456, 0.406]\n",
            "               std=[0.229, 0.224, 0.225]\n",
            "               interpolation=InterpolationMode.BILINEAR\n",
            "           )\n"
          ]
        }
      ],
      "source": [
        "# load in the images to tensors, store them in an organized fashion with their captions as their labels.\n",
        "\n",
        "trainData = datasets.ImageFolder(root = \"inaturalist_12K/train\",\n",
        "                                 transform = auto_transforms,\n",
        "                                 target_transform = None)\n",
        "testData  = datasets.ImageFolder(root = \"inaturalist_12K/val\",\n",
        "                                 transform = auto_transforms)\n",
        "\n",
        "print(f\"train data : {trainData} and test data : {testData}\")"
      ]
    },
    {
      "cell_type": "code",
      "execution_count": null,
      "id": "p5Obuh5gXam6",
      "metadata": {
        "id": "p5Obuh5gXam6"
      },
      "outputs": [],
      "source": [
        "# extract the labels.\n",
        "classLabels = trainData.classes"
      ]
    },
    {
      "cell_type": "markdown",
      "id": "3tX_7yAjw42_",
      "metadata": {
        "id": "3tX_7yAjw42_"
      },
      "source": [
        "We divide (logically for now), the data set into 80% training and 20% validation. We ensure the split has randomness in it for better accuracy during testing."
      ]
    },
    {
      "cell_type": "code",
      "execution_count": null,
      "id": "asiZeX0dpfQ3",
      "metadata": {
        "id": "asiZeX0dpfQ3"
      },
      "outputs": [],
      "source": [
        "# split the training data into 80% training and 20% validation\n",
        "\n",
        "trainSplit = ceil(0.8*len(trainData))\n",
        "\n",
        "# use random_split\n",
        "trainData, valData = torch.utils.data.random_split(trainData, [trainSplit, len(trainData) - trainSplit])"
      ]
    },
    {
      "cell_type": "markdown",
      "id": "dO3YZnCGxDW5",
      "metadata": {
        "id": "dO3YZnCGxDW5"
      },
      "source": [
        "using the torch.utils.data.DataLoader(...) funcitonality to wrap the dataset.\n",
        "\n",
        "- This will help in taking efficient caching\n",
        "- The shuffle function will add randomness (hence regularization) to the training process.\n",
        "- training and validation data loaders are made different and the batch_size parameter takes care of dividing the data into appropriate batch sizes."
      ]
    },
    {
      "cell_type": "code",
      "execution_count": null,
      "id": "y6ZC8PGQfeKu",
      "metadata": {
        "id": "y6ZC8PGQfeKu"
      },
      "outputs": [],
      "source": [
        "# wrap into data loaders so that the data is accessed in an easier way during training, validating and testing.\n",
        "\n",
        "\n",
        "trainDataLoader = torch.utils.data.DataLoader(trainData,\n",
        "                                              shuffle=True,\n",
        "                                              batch_size=32)\n",
        "\n",
        "valDataLoader = torch.utils.data.DataLoader(valData,\n",
        "                                            shuffle=True,\n",
        "                                            batch_size=32)\n",
        "\n",
        "testDataLoader = torch.utils.data.DataLoader(testData,\n",
        "                                             shuffle=False,\n",
        "                                             batch_size=32)"
      ]
    },
    {
      "cell_type": "markdown",
      "id": "MroUxl0nxg__",
      "metadata": {
        "id": "MroUxl0nxg__"
      },
      "source": [
        "the fit(....) method takes care of training the model.\n",
        "the eval(....) method takes care of evaluating the model.\n"
      ]
    },
    {
      "cell_type": "code",
      "execution_count": null,
      "id": "uqOc9Bb09u_c",
      "metadata": {
        "id": "uqOc9Bb09u_c"
      },
      "outputs": [],
      "source": [
        "def accuracy(y_true, y_pred):\n",
        "    ''' accuracy Function for calculating the percentage of y_true[i] == y_pred[i]\n",
        "        args : y_true ---> int actual value/ label(s) of for the input(s).\n",
        "        return : accuracy ---> float [0,100] The accuracy of the batch.\n",
        "    '''\n",
        "    correct = torch.eq(y_true,y_pred).sum().item()\n",
        "    accuracy = 0.0\n",
        "    accuracy = correct/(len(y_true))*100\n",
        "    return accuracy"
      ]
    },
    {
      "cell_type": "code",
      "execution_count": null,
      "id": "Ny8lgHUYWGEy",
      "metadata": {
        "id": "Ny8lgHUYWGEy"
      },
      "outputs": [],
      "source": [
        "# train Funciton.\n",
        "def fit(trainDataLoader, valDataLoader, epochs):\n",
        "    ''' args : trianDataLoader -> torch.utils.data.DataLoader contains wrapped up training data.\n",
        "             : valDataLoader.  -> torch.utils.data.DataLoader contains wrapped up validation data.\n",
        "             : epochs          -> number of epochs for which to run the training.\n",
        "\n",
        "        return nn.Module model -> This is the model after training with parameters appropriately updated.\n",
        "    '''\n",
        "    for epoch in tqdm(range(epochs)):\n",
        "        train_loss = 0\n",
        "        train_acc = 0\n",
        "        for batch, (X,y) in enumerate(trainDataLoader):\n",
        "            X,y = X.to(device), y.to(device)\n",
        "            model.train()\n",
        "            y_pred = model(X)\n",
        "            loss = loss_fn(y_pred, y)\n",
        "            train_loss += loss\n",
        "            train_acc += accuracy(y_true=y, y_pred=y_pred.argmax(dim=1))\n",
        "            optimizer.zero_grad()\n",
        "            loss.backward()\n",
        "            optimizer.step()\n",
        "\n",
        "        if batch%50==0:\n",
        "            print(f\"processed {batch}/{len(trainDataLoader)} samples\")\n",
        "\n",
        "        train_loss /= len(trainDataLoader)\n",
        "        train_acc /= len(trainDataLoader)\n",
        "    \n",
        "        val_loss = 0.0\n",
        "        val_acc = 0\n",
        "        model.eval()\n",
        "        with torch.inference_mode():\n",
        "            for X,y in valDataLoader:\n",
        "                X,y = X.to(device), y.to(device)\n",
        "                val_pred = model(X)\n",
        "                val_loss += loss_fn(val_pred, y)\n",
        "                val_acc += accuracy(y_true=y, y_pred=val_pred.argmax(dim=1))\n",
        "            val_acc /= len(testDataLoader)\n",
        "            val_loss /= len(testDataLoader)\n",
        "\n",
        "        print(f\"Train loss: {train_loss}, Train accuracy: {train_acc}, validation loss: {val_loss}, validation accuracy: {val_acc}\\n\")\n"
      ]
    },
    {
      "cell_type": "markdown",
      "id": "0GUzfSDzRexU",
      "metadata": {
        "id": "0GUzfSDzRexU"
      },
      "source": []
    },
    {
      "cell_type": "code",
      "execution_count": null,
      "id": "cr3uq_bjhk7Y",
      "metadata": {
        "id": "cr3uq_bjhk7Y"
      },
      "outputs": [],
      "source": [
        "def eval(testLoader):\n",
        "    ''' args : testLoader -> wrapper type for the testing data which is unseen.'''\n",
        "    test_loss = 0.0\n",
        "    test_acc = 0\n",
        "    model.eval()\n",
        "    with torch.inference_mode():\n",
        "        for X,y in valDataLoader:\n",
        "            X,y = X.to(device), y.to(device)\n",
        "            test_pred = model(X)\n",
        "            test_loss += loss_fn(test_pred, y)\n",
        "            test_acc += accuracy(y_true=y, y_pred=test_pred.argmax(dim=1))\n",
        "        test_acc /= len(testDataLoader)\n",
        "        test_loss /= len(testDataLoader)\n",
        "        print(f\"Test Loss: {test_loss}, Test accuracy: {test_acc}\")\n"
      ]
    },
    {
      "cell_type": "markdown",
      "id": "HTb2aRV3TQMv",
      "metadata": {
        "id": "HTb2aRV3TQMv"
      },
      "source": [
        "The Following fine tuning is done with adam with a learning Rate of 0.001.\n",
        "The learning Rate seems to be too much as we see the model got stuck in some local minima and couldn't get out of it."
      ]
    },
    {
      "cell_type": "code",
      "execution_count": null,
      "id": "l24YUcJQidA-",
      "metadata": {
        "colab": {
          "base_uri": "https://localhost:8080/",
          "height": 1000,
          "referenced_widgets": [
            "65c9bdafab4c442585901b4ac4086174",
            "a01fc0cbc55842b6b973fdf1c549017c",
            "258ee45b0d5c457b9d16252d321bfd87",
            "c47d33ec7c604d3583795df6534f6723",
            "7cd375ac113745c0819df2218fd4387e",
            "7c77aea0dc0045c0ac7ef4f37fb5fe7c",
            "48b308c864eb49729d0cbe2ed6e7a2b8",
            "4a5c5746450446f79a835f59e4cceb4d",
            "d571abd0347e41c793d9e3ad92e6281a",
            "c917fe6201dc4d9fbf0bdbee19fe388d",
            "dc7d77ef5dc34e3abaed30070d931fbc"
          ]
        },
        "id": "l24YUcJQidA-",
        "outputId": "60b5952b-d703-4468-bd37-f4c7b2a64f26"
      },
      "outputs": [
        {
          "data": {
            "application/vnd.jupyter.widget-view+json": {
              "model_id": "65c9bdafab4c442585901b4ac4086174",
              "version_major": 2,
              "version_minor": 0
            },
            "text/plain": [
              "  0%|          | 0/30 [00:00<?, ?it/s]"
            ]
          },
          "metadata": {},
          "output_type": "display_data"
        },
        {
          "name": "stdout",
          "output_type": "stream",
          "text": [
            "Train loss: 0.9238288998603821, Train accuracy: 74.6625, validation loss: 0.5547844171524048, validation accuracy: 84.79497354497354\n",
            "\n",
            "Train loss: 0.5593219995498657, Train accuracy: 84.3125, validation loss: 0.4824058711528778, validation accuracy: 86.30291005291005\n",
            "\n",
            "Train loss: 0.521395206451416, Train accuracy: 85.05, validation loss: 0.46531957387924194, validation accuracy: 86.33928571428571\n",
            "\n",
            "Train loss: 0.48913222551345825, Train accuracy: 85.7375, validation loss: 0.45911088585853577, validation accuracy: 86.2037037037037\n",
            "\n",
            "Train loss: 0.47368288040161133, Train accuracy: 85.95, validation loss: 0.446982204914093, validation accuracy: 86.94775132275132\n",
            "\n",
            "Train loss: 0.45796260237693787, Train accuracy: 86.325, validation loss: 0.44957101345062256, validation accuracy: 86.08465608465607\n",
            "\n",
            "Train loss: 0.44056427478790283, Train accuracy: 86.9625, validation loss: 0.44494733214378357, validation accuracy: 86.65013227513226\n",
            "\n",
            "Train loss: 0.45684802532196045, Train accuracy: 86.4875, validation loss: 0.4393290877342224, validation accuracy: 86.05489417989418\n",
            "\n",
            "Train loss: 0.43775659799575806, Train accuracy: 86.875, validation loss: 0.44562673568725586, validation accuracy: 86.59391534391536\n",
            "\n",
            "Train loss: 0.43673473596572876, Train accuracy: 87.0, validation loss: 0.4393293857574463, validation accuracy: 86.60714285714286\n",
            "\n",
            "Train loss: 0.44173577427864075, Train accuracy: 86.9, validation loss: 0.44148150086402893, validation accuracy: 86.65013227513226\n",
            "\n",
            "Train loss: 0.4259715974330902, Train accuracy: 87.1, validation loss: 0.44387903809547424, validation accuracy: 86.9973544973545\n",
            "\n",
            "Train loss: 0.4276648163795471, Train accuracy: 87.0125, validation loss: 0.4430093467235565, validation accuracy: 86.58730158730158\n",
            "\n",
            "Train loss: 0.42101162672042847, Train accuracy: 87.3625, validation loss: 0.4445783197879791, validation accuracy: 86.50132275132275\n",
            "\n",
            "Train loss: 0.43091970682144165, Train accuracy: 86.8875, validation loss: 0.4445194900035858, validation accuracy: 86.7063492063492\n",
            "\n",
            "Train loss: 0.4090752899646759, Train accuracy: 87.8875, validation loss: 0.4491977393627167, validation accuracy: 86.24669312169313\n",
            "\n",
            "Train loss: 0.4225744903087616, Train accuracy: 87.075, validation loss: 0.44485893845558167, validation accuracy: 86.40211640211639\n",
            "\n",
            "Train loss: 0.4281686544418335, Train accuracy: 86.85, validation loss: 0.45171767473220825, validation accuracy: 86.43849206349206\n",
            "\n",
            "Train loss: 0.42794305086135864, Train accuracy: 87.0375, validation loss: 0.4507273733615875, validation accuracy: 86.53769841269842\n",
            "\n",
            "Train loss: 0.427764892578125, Train accuracy: 86.775, validation loss: 0.44330012798309326, validation accuracy: 86.65013227513226\n",
            "\n",
            "Train loss: 0.4177873134613037, Train accuracy: 87.3, validation loss: 0.4533504843711853, validation accuracy: 86.79232804232805\n",
            "\n",
            "Train loss: 0.422098308801651, Train accuracy: 87.2125, validation loss: 0.45607203245162964, validation accuracy: 86.50132275132275\n",
            "\n",
            "Train loss: 0.428739070892334, Train accuracy: 86.7625, validation loss: 0.45995718240737915, validation accuracy: 86.04828042328043\n",
            "\n",
            "Train loss: 0.430909663438797, Train accuracy: 87.0875, validation loss: 0.46051284670829773, validation accuracy: 86.24669312169313\n",
            "\n",
            "Train loss: 0.4236292243003845, Train accuracy: 87.025, validation loss: 0.4605940878391266, validation accuracy: 86.2962962962963\n",
            "\n",
            "Train loss: 0.4334409236907959, Train accuracy: 86.6625, validation loss: 0.46326228976249695, validation accuracy: 86.78571428571429\n",
            "\n",
            "Train loss: 0.4227259159088135, Train accuracy: 86.85, validation loss: 0.4679611325263977, validation accuracy: 86.28306878306879\n",
            "\n",
            "Train loss: 0.42697522044181824, Train accuracy: 86.725, validation loss: 0.4514619708061218, validation accuracy: 86.39550264550265\n",
            "\n",
            "Train loss: 0.4172394573688507, Train accuracy: 87.425, validation loss: 0.4529533088207245, validation accuracy: 86.30291005291005\n",
            "\n",
            "Train loss: 0.42965763807296753, Train accuracy: 87.1125, validation loss: 0.46472957730293274, validation accuracy: 86.48148148148148\n",
            "\n"
          ]
        }
      ],
      "source": [
        "# fine tune the model for 30 epochs.\n",
        "\n",
        "fit(trainDataLoader, valDataLoader,30)"
      ]
    },
    {
      "cell_type": "code",
      "execution_count": null,
      "id": "E2fOQbLzIQ4c",
      "metadata": {
        "colab": {
          "base_uri": "https://localhost:8080/"
        },
        "id": "E2fOQbLzIQ4c",
        "outputId": "a3a0f7a1-abcf-4d37-f58f-ab593121ea5e"
      },
      "outputs": [
        {
          "name": "stdout",
          "output_type": "stream",
          "text": [
            "Test Loss: 0.45687350630760193, Test accuracy: 86.59391534391536\n"
          ]
        }
      ],
      "source": [
        "# evaluate the model.\n",
        "\n",
        "eval(testDataLoader)"
      ]
    },
    {
      "cell_type": "code",
      "execution_count": null,
      "id": "O7WDF18Dn0qd",
      "metadata": {
        "id": "O7WDF18Dn0qd"
      },
      "outputs": [],
      "source": [
        "# save the model\n",
        "\n",
        "torch.save(model, \"vit_16_model.pth\")"
      ]
    },
    {
      "cell_type": "markdown",
      "id": "ZYq9RVYHxth0",
      "metadata": {
        "id": "ZYq9RVYHxth0"
      },
      "source": [
        "accuracy function ( over tensors ) to calculate accuracy( by the batch). "
      ]
    }
  ],
  "metadata": {
    "accelerator": "GPU",
    "colab": {
      "provenance": []
    },
    "gpuClass": "standard",
    "kernelspec": {
      "display_name": "Python 3 (ipykernel)",
      "language": "python",
      "name": "python3"
    },
    "language_info": {
      "codemirror_mode": {
        "name": "ipython",
        "version": 3
      },
      "file_extension": ".py",
      "mimetype": "text/x-python",
      "name": "python",
      "nbconvert_exporter": "python",
      "pygments_lexer": "ipython3",
      "version": "3.9.16"
    },
    "widgets": {
      "application/vnd.jupyter.widget-state+json": {
        "258ee45b0d5c457b9d16252d321bfd87": {
          "model_module": "@jupyter-widgets/controls",
          "model_module_version": "1.5.0",
          "model_name": "FloatProgressModel",
          "state": {
            "_dom_classes": [],
            "_model_module": "@jupyter-widgets/controls",
            "_model_module_version": "1.5.0",
            "_model_name": "FloatProgressModel",
            "_view_count": null,
            "_view_module": "@jupyter-widgets/controls",
            "_view_module_version": "1.5.0",
            "_view_name": "ProgressView",
            "bar_style": "success",
            "description": "",
            "description_tooltip": null,
            "layout": "IPY_MODEL_4a5c5746450446f79a835f59e4cceb4d",
            "max": 30,
            "min": 0,
            "orientation": "horizontal",
            "style": "IPY_MODEL_d571abd0347e41c793d9e3ad92e6281a",
            "value": 30
          }
        },
        "48b308c864eb49729d0cbe2ed6e7a2b8": {
          "model_module": "@jupyter-widgets/controls",
          "model_module_version": "1.5.0",
          "model_name": "DescriptionStyleModel",
          "state": {
            "_model_module": "@jupyter-widgets/controls",
            "_model_module_version": "1.5.0",
            "_model_name": "DescriptionStyleModel",
            "_view_count": null,
            "_view_module": "@jupyter-widgets/base",
            "_view_module_version": "1.2.0",
            "_view_name": "StyleView",
            "description_width": ""
          }
        },
        "4a5c5746450446f79a835f59e4cceb4d": {
          "model_module": "@jupyter-widgets/base",
          "model_module_version": "1.2.0",
          "model_name": "LayoutModel",
          "state": {
            "_model_module": "@jupyter-widgets/base",
            "_model_module_version": "1.2.0",
            "_model_name": "LayoutModel",
            "_view_count": null,
            "_view_module": "@jupyter-widgets/base",
            "_view_module_version": "1.2.0",
            "_view_name": "LayoutView",
            "align_content": null,
            "align_items": null,
            "align_self": null,
            "border": null,
            "bottom": null,
            "display": null,
            "flex": null,
            "flex_flow": null,
            "grid_area": null,
            "grid_auto_columns": null,
            "grid_auto_flow": null,
            "grid_auto_rows": null,
            "grid_column": null,
            "grid_gap": null,
            "grid_row": null,
            "grid_template_areas": null,
            "grid_template_columns": null,
            "grid_template_rows": null,
            "height": null,
            "justify_content": null,
            "justify_items": null,
            "left": null,
            "margin": null,
            "max_height": null,
            "max_width": null,
            "min_height": null,
            "min_width": null,
            "object_fit": null,
            "object_position": null,
            "order": null,
            "overflow": null,
            "overflow_x": null,
            "overflow_y": null,
            "padding": null,
            "right": null,
            "top": null,
            "visibility": null,
            "width": null
          }
        },
        "65c9bdafab4c442585901b4ac4086174": {
          "model_module": "@jupyter-widgets/controls",
          "model_module_version": "1.5.0",
          "model_name": "HBoxModel",
          "state": {
            "_dom_classes": [],
            "_model_module": "@jupyter-widgets/controls",
            "_model_module_version": "1.5.0",
            "_model_name": "HBoxModel",
            "_view_count": null,
            "_view_module": "@jupyter-widgets/controls",
            "_view_module_version": "1.5.0",
            "_view_name": "HBoxView",
            "box_style": "",
            "children": [
              "IPY_MODEL_a01fc0cbc55842b6b973fdf1c549017c",
              "IPY_MODEL_258ee45b0d5c457b9d16252d321bfd87",
              "IPY_MODEL_c47d33ec7c604d3583795df6534f6723"
            ],
            "layout": "IPY_MODEL_7cd375ac113745c0819df2218fd4387e"
          }
        },
        "7c77aea0dc0045c0ac7ef4f37fb5fe7c": {
          "model_module": "@jupyter-widgets/base",
          "model_module_version": "1.2.0",
          "model_name": "LayoutModel",
          "state": {
            "_model_module": "@jupyter-widgets/base",
            "_model_module_version": "1.2.0",
            "_model_name": "LayoutModel",
            "_view_count": null,
            "_view_module": "@jupyter-widgets/base",
            "_view_module_version": "1.2.0",
            "_view_name": "LayoutView",
            "align_content": null,
            "align_items": null,
            "align_self": null,
            "border": null,
            "bottom": null,
            "display": null,
            "flex": null,
            "flex_flow": null,
            "grid_area": null,
            "grid_auto_columns": null,
            "grid_auto_flow": null,
            "grid_auto_rows": null,
            "grid_column": null,
            "grid_gap": null,
            "grid_row": null,
            "grid_template_areas": null,
            "grid_template_columns": null,
            "grid_template_rows": null,
            "height": null,
            "justify_content": null,
            "justify_items": null,
            "left": null,
            "margin": null,
            "max_height": null,
            "max_width": null,
            "min_height": null,
            "min_width": null,
            "object_fit": null,
            "object_position": null,
            "order": null,
            "overflow": null,
            "overflow_x": null,
            "overflow_y": null,
            "padding": null,
            "right": null,
            "top": null,
            "visibility": null,
            "width": null
          }
        },
        "7cd375ac113745c0819df2218fd4387e": {
          "model_module": "@jupyter-widgets/base",
          "model_module_version": "1.2.0",
          "model_name": "LayoutModel",
          "state": {
            "_model_module": "@jupyter-widgets/base",
            "_model_module_version": "1.2.0",
            "_model_name": "LayoutModel",
            "_view_count": null,
            "_view_module": "@jupyter-widgets/base",
            "_view_module_version": "1.2.0",
            "_view_name": "LayoutView",
            "align_content": null,
            "align_items": null,
            "align_self": null,
            "border": null,
            "bottom": null,
            "display": null,
            "flex": null,
            "flex_flow": null,
            "grid_area": null,
            "grid_auto_columns": null,
            "grid_auto_flow": null,
            "grid_auto_rows": null,
            "grid_column": null,
            "grid_gap": null,
            "grid_row": null,
            "grid_template_areas": null,
            "grid_template_columns": null,
            "grid_template_rows": null,
            "height": null,
            "justify_content": null,
            "justify_items": null,
            "left": null,
            "margin": null,
            "max_height": null,
            "max_width": null,
            "min_height": null,
            "min_width": null,
            "object_fit": null,
            "object_position": null,
            "order": null,
            "overflow": null,
            "overflow_x": null,
            "overflow_y": null,
            "padding": null,
            "right": null,
            "top": null,
            "visibility": null,
            "width": null
          }
        },
        "a01fc0cbc55842b6b973fdf1c549017c": {
          "model_module": "@jupyter-widgets/controls",
          "model_module_version": "1.5.0",
          "model_name": "HTMLModel",
          "state": {
            "_dom_classes": [],
            "_model_module": "@jupyter-widgets/controls",
            "_model_module_version": "1.5.0",
            "_model_name": "HTMLModel",
            "_view_count": null,
            "_view_module": "@jupyter-widgets/controls",
            "_view_module_version": "1.5.0",
            "_view_name": "HTMLView",
            "description": "",
            "description_tooltip": null,
            "layout": "IPY_MODEL_7c77aea0dc0045c0ac7ef4f37fb5fe7c",
            "placeholder": "​",
            "style": "IPY_MODEL_48b308c864eb49729d0cbe2ed6e7a2b8",
            "value": "100%"
          }
        },
        "c47d33ec7c604d3583795df6534f6723": {
          "model_module": "@jupyter-widgets/controls",
          "model_module_version": "1.5.0",
          "model_name": "HTMLModel",
          "state": {
            "_dom_classes": [],
            "_model_module": "@jupyter-widgets/controls",
            "_model_module_version": "1.5.0",
            "_model_name": "HTMLModel",
            "_view_count": null,
            "_view_module": "@jupyter-widgets/controls",
            "_view_module_version": "1.5.0",
            "_view_name": "HTMLView",
            "description": "",
            "description_tooltip": null,
            "layout": "IPY_MODEL_c917fe6201dc4d9fbf0bdbee19fe388d",
            "placeholder": "​",
            "style": "IPY_MODEL_dc7d77ef5dc34e3abaed30070d931fbc",
            "value": " 30/30 [2:16:49&lt;00:00, 271.74s/it]"
          }
        },
        "c917fe6201dc4d9fbf0bdbee19fe388d": {
          "model_module": "@jupyter-widgets/base",
          "model_module_version": "1.2.0",
          "model_name": "LayoutModel",
          "state": {
            "_model_module": "@jupyter-widgets/base",
            "_model_module_version": "1.2.0",
            "_model_name": "LayoutModel",
            "_view_count": null,
            "_view_module": "@jupyter-widgets/base",
            "_view_module_version": "1.2.0",
            "_view_name": "LayoutView",
            "align_content": null,
            "align_items": null,
            "align_self": null,
            "border": null,
            "bottom": null,
            "display": null,
            "flex": null,
            "flex_flow": null,
            "grid_area": null,
            "grid_auto_columns": null,
            "grid_auto_flow": null,
            "grid_auto_rows": null,
            "grid_column": null,
            "grid_gap": null,
            "grid_row": null,
            "grid_template_areas": null,
            "grid_template_columns": null,
            "grid_template_rows": null,
            "height": null,
            "justify_content": null,
            "justify_items": null,
            "left": null,
            "margin": null,
            "max_height": null,
            "max_width": null,
            "min_height": null,
            "min_width": null,
            "object_fit": null,
            "object_position": null,
            "order": null,
            "overflow": null,
            "overflow_x": null,
            "overflow_y": null,
            "padding": null,
            "right": null,
            "top": null,
            "visibility": null,
            "width": null
          }
        },
        "d571abd0347e41c793d9e3ad92e6281a": {
          "model_module": "@jupyter-widgets/controls",
          "model_module_version": "1.5.0",
          "model_name": "ProgressStyleModel",
          "state": {
            "_model_module": "@jupyter-widgets/controls",
            "_model_module_version": "1.5.0",
            "_model_name": "ProgressStyleModel",
            "_view_count": null,
            "_view_module": "@jupyter-widgets/base",
            "_view_module_version": "1.2.0",
            "_view_name": "StyleView",
            "bar_color": null,
            "description_width": ""
          }
        },
        "dc7d77ef5dc34e3abaed30070d931fbc": {
          "model_module": "@jupyter-widgets/controls",
          "model_module_version": "1.5.0",
          "model_name": "DescriptionStyleModel",
          "state": {
            "_model_module": "@jupyter-widgets/controls",
            "_model_module_version": "1.5.0",
            "_model_name": "DescriptionStyleModel",
            "_view_count": null,
            "_view_module": "@jupyter-widgets/base",
            "_view_module_version": "1.2.0",
            "_view_name": "StyleView",
            "description_width": ""
          }
        }
      }
    }
  },
  "nbformat": 4,
  "nbformat_minor": 5
}
