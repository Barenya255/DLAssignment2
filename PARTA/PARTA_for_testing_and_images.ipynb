{
  "cells": [
    {
      "cell_type": "code",
      "source": [
        "pip install wandb"
      ],
      "metadata": {
        "colab": {
          "base_uri": "https://localhost:8080/"
        },
        "id": "J7Q7b5wwWxno",
        "outputId": "5c867a7c-43d3-4e98-e93c-4e847e36a555"
      },
      "execution_count": 9,
      "outputs": [
        {
          "output_type": "stream",
          "name": "stdout",
          "text": [
            "Looking in indexes: https://pypi.org/simple, https://us-python.pkg.dev/colab-wheels/public/simple/\n",
            "Requirement already satisfied: wandb in /usr/local/lib/python3.9/dist-packages (0.14.2)\n",
            "Requirement already satisfied: setproctitle in /usr/local/lib/python3.9/dist-packages (from wandb) (1.3.2)\n",
            "Requirement already satisfied: appdirs>=1.4.3 in /usr/local/lib/python3.9/dist-packages (from wandb) (1.4.4)\n",
            "Requirement already satisfied: typing-extensions in /usr/local/lib/python3.9/dist-packages (from wandb) (4.5.0)\n",
            "Requirement already satisfied: setuptools in /usr/local/lib/python3.9/dist-packages (from wandb) (67.6.1)\n",
            "Requirement already satisfied: psutil>=5.0.0 in /usr/local/lib/python3.9/dist-packages (from wandb) (5.9.4)\n",
            "Requirement already satisfied: PyYAML in /usr/local/lib/python3.9/dist-packages (from wandb) (6.0)\n",
            "Requirement already satisfied: Click!=8.0.0,>=7.0 in /usr/local/lib/python3.9/dist-packages (from wandb) (8.1.3)\n",
            "Requirement already satisfied: requests<3,>=2.0.0 in /usr/local/lib/python3.9/dist-packages (from wandb) (2.27.1)\n",
            "Requirement already satisfied: sentry-sdk>=1.0.0 in /usr/local/lib/python3.9/dist-packages (from wandb) (1.19.1)\n",
            "Requirement already satisfied: docker-pycreds>=0.4.0 in /usr/local/lib/python3.9/dist-packages (from wandb) (0.4.0)\n",
            "Requirement already satisfied: protobuf!=4.21.0,<5,>=3.15.0 in /usr/local/lib/python3.9/dist-packages (from wandb) (3.20.3)\n",
            "Requirement already satisfied: pathtools in /usr/local/lib/python3.9/dist-packages (from wandb) (0.1.2)\n",
            "Requirement already satisfied: GitPython!=3.1.29,>=1.0.0 in /usr/local/lib/python3.9/dist-packages (from wandb) (3.1.31)\n",
            "Requirement already satisfied: six>=1.4.0 in /usr/local/lib/python3.9/dist-packages (from docker-pycreds>=0.4.0->wandb) (1.16.0)\n",
            "Requirement already satisfied: gitdb<5,>=4.0.1 in /usr/local/lib/python3.9/dist-packages (from GitPython!=3.1.29,>=1.0.0->wandb) (4.0.10)\n",
            "Requirement already satisfied: idna<4,>=2.5 in /usr/local/lib/python3.9/dist-packages (from requests<3,>=2.0.0->wandb) (3.4)\n",
            "Requirement already satisfied: urllib3<1.27,>=1.21.1 in /usr/local/lib/python3.9/dist-packages (from requests<3,>=2.0.0->wandb) (1.26.15)\n",
            "Requirement already satisfied: certifi>=2017.4.17 in /usr/local/lib/python3.9/dist-packages (from requests<3,>=2.0.0->wandb) (2022.12.7)\n",
            "Requirement already satisfied: charset-normalizer~=2.0.0 in /usr/local/lib/python3.9/dist-packages (from requests<3,>=2.0.0->wandb) (2.0.12)\n",
            "Requirement already satisfied: smmap<6,>=3.0.1 in /usr/local/lib/python3.9/dist-packages (from gitdb<5,>=4.0.1->GitPython!=3.1.29,>=1.0.0->wandb) (5.0.0)\n"
          ]
        }
      ]
    },
    {
      "cell_type": "code",
      "execution_count": 10,
      "metadata": {
        "execution": {
          "iopub.execute_input": "2023-04-11T15:33:44.503711Z",
          "iopub.status.busy": "2023-04-11T15:33:44.503017Z",
          "iopub.status.idle": "2023-04-11T15:39:53.452453Z",
          "shell.execute_reply": "2023-04-11T15:39:53.451057Z",
          "shell.execute_reply.started": "2023-04-11T15:33:44.503664Z"
        },
        "id": "55390e37",
        "trusted": true
      },
      "outputs": [],
      "source": [
        "import torch\n",
        "import torch.nn as nn\n",
        "from torchvision import datasets, transforms\n",
        "from math import ceil as ceil\n",
        "import matplotlib.pyplot as plt\n",
        "from tqdm.auto import tqdm\n",
        "import wandb\n",
        "\n",
        "# Download the dataset.\n",
        "#!wget https://storage.googleapis.com/wandb_datasets/nature_12K.zip\n",
        "\n",
        "# unzip the datqaset.\n",
        "#!unzip -q nature_12K.zip"
      ]
    },
    {
      "cell_type": "markdown",
      "metadata": {
        "id": "Gjv7BFoCyVv2"
      },
      "source": [
        "The Following class prepData prepares the data with the option to augment or not\n",
        "- it returns training data Loader, validation Data Loader, test Data Loader and the class Names dictionary\n",
        "\n",
        "- it takes a boolean(augment) as it's input which decides whether to augment the data or not"
      ]
    },
    {
      "cell_type": "code",
      "execution_count": 11,
      "metadata": {
        "execution": {
          "iopub.execute_input": "2023-04-11T15:40:45.931389Z",
          "iopub.status.busy": "2023-04-11T15:40:45.931019Z",
          "iopub.status.idle": "2023-04-11T15:40:45.942327Z",
          "shell.execute_reply": "2023-04-11T15:40:45.941156Z",
          "shell.execute_reply.started": "2023-04-11T15:40:45.931356Z"
        },
        "id": "fa0s_Ish2Mjh",
        "trusted": true
      },
      "outputs": [],
      "source": [
        "def prepData(augment:bool):\n",
        "    ''' Function to prepare the data using torch libraries for the purpose of training torch\n",
        "        neural networks with relative ease.\n",
        "        \n",
        "        Using torch dataLoaders helps in memory management as well\n",
        "        \n",
        "        args : augment bool ---> True would enable data augmentation, False would disable.\n",
        "        \n",
        "        return : \n",
        "            TrainDataLoader --> torch data loader wrapper for training dataset.\n",
        "            ValDataLoader ----> torch data loader wrapper for validation data set.\n",
        "            TestDataLoader ---> torch data loader wrapper for test data set.'''\n",
        "    \n",
        "    if augment == True:\n",
        "        preProcess = transforms.Compose([\n",
        "            transforms.Resize(size = (128,128)),\n",
        "            transforms.RandomHorizontalFlip(p=0.5),\n",
        "            transforms.RandomVerticalFlip(p=0.2),\n",
        "            transforms.ToTensor()\n",
        "        ])\n",
        "    else:\n",
        "        preProcess = transforms.Compose([\n",
        "            transforms.Resize(size = (128,128)),\n",
        "            transforms.ToTensor()\n",
        "        ])\n",
        "    print(\"loading the data into tensors ==============================\")\n",
        "    trainData = datasets.ImageFolder(root = \"inaturalist_12K/train\",\n",
        "                                    transform = preProcess,\n",
        "                                    target_transform = None)\n",
        "    classLabels = trainData.classes\n",
        "    \n",
        "    testData  = datasets.ImageFolder(root = \"inaturalist_12K/val\",\n",
        "                                    transform = preProcess)\n",
        "\n",
        "    print(f\"train data : {trainData} and test data : {testData}\")\n",
        "\n",
        "    print(\"splitting into train and val ================================\")\n",
        "    trainSplit = ceil(0.8*len(trainData))\n",
        "    trainData, valData = torch.utils.data.random_split(trainData, [trainSplit, len(trainData) - trainSplit])\n",
        "\n",
        "    print(\"wrapping into train loader ==================================\")\n",
        "\n",
        "    trainDataLoader = torch.utils.data.DataLoader(trainData,\n",
        "                                                shuffle=True,\n",
        "                                                batch_size=32)\n",
        "\n",
        "    valDataLoader = torch.utils.data.DataLoader(valData,\n",
        "                                                shuffle=True,\n",
        "                                                batch_size=32)\n",
        "\n",
        "    testDataLoader = torch.utils.data.DataLoader(testData,\n",
        "                                                shuffle=False,\n",
        "                                                batch_size=32)\n",
        "    \n",
        "    print(\"loaders created for faster loading ===========================\")\n",
        "\n",
        "\n",
        "\n",
        "    return trainDataLoader, valDataLoader, testDataLoader, classLabels"
      ]
    },
    {
      "cell_type": "markdown",
      "metadata": {
        "id": "RPcZ5VPVyVv4"
      },
      "source": [
        "The class for the model made from scratch\n",
        "- named CNN Model, inherits nn.Module.\n",
        "- must have a forward function for completion and successful training.\n",
        "- Flexibility with respect to layer size, kernel size, and batchNormalization(add/not add)"
      ]
    },
    {
      "cell_type": "code",
      "execution_count": 12,
      "metadata": {
        "execution": {
          "iopub.execute_input": "2023-04-11T15:40:49.728177Z",
          "iopub.status.busy": "2023-04-11T15:40:49.727791Z",
          "iopub.status.idle": "2023-04-11T15:40:49.740079Z",
          "shell.execute_reply": "2023-04-11T15:40:49.738651Z",
          "shell.execute_reply.started": "2023-04-11T15:40:49.728144Z"
        },
        "id": "3kyOIIShqGDP",
        "trusted": true
      },
      "outputs": [],
      "source": [
        "class CNNModel(nn.Module):\n",
        "    ''' CNN Model for classifying the images\n",
        "    \n",
        "        __init__ : creates a blueprint for the model\n",
        "        forward  : forward propagation facilitated by Torch Layers.'''\n",
        "\n",
        "    def __init__(self, activation, kernels, inputShape: int, hiddenUnit: int, outputSize: int, dropOut: float, batchNorm: bool, factor: int):\n",
        "        \n",
        "        ''' initialize the model == inherit from nn.Module\n",
        "            \n",
        "            args : activation --> activation Function torch.nn.$SomeValidActivationFunction$\n",
        "                   kernels ---> list conatining 5 kernel sizes that may be taken as input.\n",
        "                   inputShape --> Number of Channels in input data.\n",
        "                   hiddenUnit --> Filter size.\n",
        "                   outputSize --> number of output channels.\n",
        "                   batchNorm ---> boolean var to indicate whether to add batch normalization or not.\n",
        "                   factor ------> int value used as multiplier for subsequent layers.\n",
        "        '''\n",
        "        super().__init__()\n",
        "        self.hiddenUnit = hiddenUnit\n",
        "        self.factor = factor\n",
        "        self.batchNorm = batchNorm\n",
        "\n",
        "        self.conv_blocks = nn.ModuleList()    # ModuleList (Torch container) used to record specific layers.  \n",
        "        self.batch_norms = nn.ModuleList()    # Using ModuleList shortens boiler plate code.\n",
        "\n",
        "        layerSize = [inputShape] + [self.hiddenUnit] + [self.factor * self.hiddenUnit] * 4\n",
        "        for i in range(5):\n",
        "            self.conv_blocks.append(nn.Conv2d(layerSize[i], layerSize[i+1], kernel_size=kernels[i], padding=2))  # add conv layers\n",
        "            if self.batchNorm:\n",
        "                self.batch_norms.append(nn.BatchNorm2d(layerSize[i+1])) # add Batch normalization only if specified.\n",
        "\n",
        "        self.activate = activation  # add activation function (taken as input).\n",
        "        self.pool = nn.MaxPool2d(kernel_size=2, stride=2)  # max pool layer (as and when to be used).\n",
        "        self.drop = nn.Dropout(p=dropOut)  # drop out layer for reducing over fitting.\n",
        "        \n",
        "        # DenseBlock containing a flattening layer, dense layer.\n",
        "        self.DenseBlock = nn.Sequential(\n",
        "            nn.Flatten(),\n",
        "            nn.LazyLinear(out_features=1024, bias=True, device=None, dtype=None), # LazyLinear used for calculation of in_features.\n",
        "            nn.Dropout(p=dropOut),\n",
        "            nn.Linear(in_features=1024, out_features=outputSize)\n",
        "        )\n",
        "\n",
        "    def forward(self, x):\n",
        "        ''' Forward Propagation\n",
        "            x ---> tensor denoting input value.\n",
        "            return x ---> prediction value.'''\n",
        "        for i in range(5):\n",
        "            x = self.conv_blocks[i](x)\n",
        "            if self.batchNorm and i < 5:\n",
        "                x = self.batch_norms[i](x)\n",
        "            x = self.activate(x)\n",
        "            x = self.pool(x)\n",
        "\n",
        "        x = self.drop(x)\n",
        "        x = self.DenseBlock(x)\n",
        "\n",
        "        return x\n"
      ]
    },
    {
      "cell_type": "code",
      "execution_count": 13,
      "metadata": {
        "execution": {
          "iopub.execute_input": "2023-04-11T15:40:53.545684Z",
          "iopub.status.busy": "2023-04-11T15:40:53.544707Z",
          "iopub.status.idle": "2023-04-11T15:40:53.551611Z",
          "shell.execute_reply": "2023-04-11T15:40:53.550392Z",
          "shell.execute_reply.started": "2023-04-11T15:40:53.545646Z"
        },
        "id": "v8o0a9XSyVv5",
        "trusted": true
      },
      "outputs": [],
      "source": [
        "def accuracy(y_true, y_pred):\n",
        "    ''' accuracy Function for calculating the percentage of y_true[i] == y_pred[i]\n",
        "        args : y_true ---> int actual value/ label(s) of for the input(s).\n",
        "        return : accuracy ---> float [0,100] The accuracy of the batch.\n",
        "    '''\n",
        "    correct = torch.eq(y_true,y_pred)\n",
        "    correct = correct.sum()\n",
        "    val = correct.item()\n",
        "    accuracy = 0.0\n",
        "    accuracy = val/(len(y_true))*100\n",
        "    return accuracy"
      ]
    },
    {
      "cell_type": "code",
      "execution_count": 14,
      "metadata": {
        "execution": {
          "iopub.execute_input": "2023-04-11T16:47:05.208411Z",
          "iopub.status.busy": "2023-04-11T16:47:05.207991Z",
          "iopub.status.idle": "2023-04-11T16:47:05.222939Z",
          "shell.execute_reply": "2023-04-11T16:47:05.221944Z",
          "shell.execute_reply.started": "2023-04-11T16:47:05.208377Z"
        },
        "id": "XyFNQ3Htw3RE",
        "trusted": true
      },
      "outputs": [],
      "source": [
        "def fit(model, trainDataLoader, valDataLoader, epochs, device, loss_fn, optimizer):\n",
        "    ''' Function for training the model on the data set.\n",
        "        args --->\n",
        "            model -> CNNModule object \n",
        "            trainDataLoader --> torch dataLoader wrapper containing training set.\n",
        "            valDataLoader --> torch dataLoader wrapper containing validation set.\n",
        "            epochs --> int, number of epochs.\n",
        "            device --> whether cpu or cuda.\n",
        "            loss_fn ---> loss Function used.\n",
        "            optimizer --> optimizer function used.\n",
        "            \n",
        "        return model --> CNN Module object with updated weights.\n",
        "    '''\n",
        "    for epoch in tqdm(range(epochs)):\n",
        "        train_loss = 0\n",
        "        train_acc = 0\n",
        "        for batch, (X,y) in enumerate(trainDataLoader):\n",
        "            X,y = X.to(device), y.to(device)\n",
        "            model.train()\n",
        "            y_pred = model(X)\n",
        "            loss = loss_fn(y_pred, y)\n",
        "            train_loss += loss\n",
        "            train_acc += accuracy(y_true=y, y_pred=y_pred.argmax(dim=1))\n",
        "            optimizer.zero_grad()\n",
        "            loss.backward()\n",
        "            optimizer.step()\n",
        "\n",
        "            if batch%50 == 0:\n",
        "                print(f\"went through {batch}/{len(trainDataLoader)} samples\")\n",
        "            torch.cuda.empty_cache()\n",
        "\n",
        "        train_loss /= len(trainDataLoader)\n",
        "        train_acc /= len(trainDataLoader)\n",
        "    \n",
        "        val_loss = 0.0\n",
        "        val_acc = 0\n",
        "        model.eval()\n",
        "        with torch.inference_mode():\n",
        "            for X,y in valDataLoader:\n",
        "                X,y = X.to(device), y.to(device)\n",
        "                val_pred = model(X)\n",
        "                val_loss += loss_fn(val_pred, y)\n",
        "                val_acc += accuracy(y_true=y, y_pred=val_pred.argmax(dim=1))\n",
        "            val_acc /= len(valDataLoader)\n",
        "            val_loss /= len(valDataLoader)\n",
        "        \n",
        "        #wandb.log({\"TrainingLoss\" : train_loss, \"ValidationLoss\" : val_loss, \"TrainingAccuracy\" : train_acc, \"ValidationAccuracy\" : val_acc, \"epoch\": epoch})\n",
        "\n",
        "        print(f\"Train loss: {train_loss}, Train accuracy: {train_acc}, validation loss: {val_loss}, validation accuracy: {val_acc}\\n\")\n",
        "    torch.save(model, \"/kaggle/working/vit_16_model.pth\")\n",
        "\n",
        "    return model\n",
        "\n",
        "def eval(model, testDataLoader, device, loss_fn):\n",
        "    ''' Function for evaluating the training on unseen test Dataset.\n",
        "        args --> testDataLoader torch DataLoader object for easy loading/unloading.\n",
        "    '''\n",
        "    device = \"cuda\" if torch.cuda.is_available() else \"cpu\"\n",
        "    test_loss = 0.0\n",
        "    test_acc = 0\n",
        "    model.eval()\n",
        "    with torch.inference_mode():\n",
        "        for X,y in testDataLoader:\n",
        "            X,y = X.to(device), y.to(device)\n",
        "            test_pred = model(X)\n",
        "            test_loss += loss_fn(test_pred, y)\n",
        "            test_acc += accuracy(y_true=y, y_pred=test_pred.argmax(dim=1))\n",
        "        test_acc /= len(testDataLoader)\n",
        "        test_loss /= len(testDataLoader)\n",
        "    print(f\"test accuracy is {test_acc} and test loss os {test_loss}\")\n"
      ]
    },
    {
      "cell_type": "code",
      "execution_count": 15,
      "metadata": {
        "execution": {
          "iopub.execute_input": "2023-04-11T15:40:58.814347Z",
          "iopub.status.busy": "2023-04-11T15:40:58.813718Z",
          "iopub.status.idle": "2023-04-11T15:40:58.825117Z",
          "shell.execute_reply": "2023-04-11T15:40:58.823702Z",
          "shell.execute_reply.started": "2023-04-11T15:40:58.814310Z"
        },
        "id": "M7C2ThVtB0Kx",
        "trusted": true
      },
      "outputs": [],
      "source": [
        "def masterTrainer(trainDataLoader, valDataLoader, testDataLoader, learningRate, kernels, layerSize, dropOut, batchNorm, activation, factor, epochs):\n",
        "    ''' function to start the training and facilitate wandb logging.\n",
        "        args ->\n",
        "            trainDataLoader --> torch dataLoader wrapper containing training set.\n",
        "            valDataLoader --> torch dataLoader wrapper containing validation set.\n",
        "            testDataLoader --> torch dataLoader wrapper containing test dataset.\n",
        "            \n",
        "            learningRate ---> int, learning rate,\n",
        "            kernels --> list of kernel sizes, one for each convolutional layer.\n",
        "            layerSize --> filter size of first convolutional layer\n",
        "            factor --> multiplier to number of filters for subsequent training.\n",
        "            epochs --> int, number of epochs.\n",
        "    '''\n",
        "    activations = {\n",
        "    \"relu\" : torch.nn.ReLU(),\n",
        "    \"gelu\" : torch.nn.GELU(),\n",
        "    \"silu\" : torch.nn.SiLU(),\n",
        "    \"mish\" : torch.nn.Mish()\n",
        "    }\n",
        "\n",
        "    #import wandb    \n",
        "    #wandb.init(project=\"DLAssignment2\", entity=\"cs22m028\")\n",
        "    #wandb.run.name = \"config_\"+str(optimizer)+\"_\"+str(layerSize)+\"_\"+str(decay)+\"_\"+str(opt)+\"_\"+str(batchNorm)+\"_\"+str(dropOut)+\"_\"+str(activation)    \n",
        "    activate= activations[activation]\n",
        "\n",
        "    model_0 = CNNModel(activate, kernels, inputShape=3, hiddenUnit=layerSize,outputSize=10, dropOut = dropOut, batchNorm=True, factor = factor)\n",
        "\n",
        "    device = \"cuda\" if torch.cuda.is_available() else \"cpu\"\n",
        "    model_0.to(device)\n",
        "    #from helper_functions import accuracy_fn as accuracy # Note: could also use torchmetrics.Accuracy(task = 'multiclass', num_classes=len(class_names)).to(device)\n",
        "    loss_fn = nn.CrossEntropyLoss()\n",
        "    optimizer = torch.optim.Adam(params = model_0.parameters(),lr=learningRate)\n",
        "    print(model_0)\n",
        "    model_0 = fit(model_0, trainDataLoader, valDataLoader, epochs, device, loss_fn, optimizer)\n",
        "    \n",
        "    eval(model_0, testDataLoader, device, loss_fn)\n",
        "    randomImageModeler(model_0, testDataLoader, classNames)\n",
        "\n"
      ]
    },
    {
      "cell_type": "code",
      "execution_count": 16,
      "metadata": {
        "execution": {
          "iopub.execute_input": "2023-04-11T18:01:32.538682Z",
          "iopub.status.busy": "2023-04-11T18:01:32.538303Z",
          "iopub.status.idle": "2023-04-11T18:01:32.548531Z",
          "shell.execute_reply": "2023-04-11T18:01:32.547454Z",
          "shell.execute_reply.started": "2023-04-11T18:01:32.538647Z"
        },
        "id": "El5gqsyrzgoz",
        "trusted": true
      },
      "outputs": [],
      "source": [
        "def randomImageModeler(model, testDataLoader, classNames):\n",
        "    device = \"cuda\" if torch.cuda.is_available() else \"cpu\"\n",
        "    wandb.init(project=\"DLAssignment2\", entity=\"cs22m028\")\n",
        "    model.to(\"cpu\")\n",
        "    model.eval()\n",
        "    count = 0\n",
        "    images = []\n",
        "    with torch.inference_mode():\n",
        "        for X,y in testDataLoader:\n",
        "            #X,y = X.to(device), y.to(device)\n",
        "            prediction = model(X)\n",
        "            # That is it...\n",
        "            # print the image.\n",
        "            for i in range(30):\n",
        "                img = X[i].permute(1, 2, 0).numpy()\n",
        "                image = wandb.Image(img, caption= classNames[prediction[i].argmax(dim=0)])\n",
        "                images.append(image)\n",
        "            break\n",
        "        wandb.log({\"Some predictions....\": images})\n",
        "    # It is done."
      ]
    },
    {
      "cell_type": "code",
      "execution_count": 17,
      "metadata": {
        "execution": {
          "iopub.execute_input": "2023-04-11T15:41:03.629622Z",
          "iopub.status.busy": "2023-04-11T15:41:03.628667Z",
          "iopub.status.idle": "2023-04-11T15:41:03.638864Z",
          "shell.execute_reply": "2023-04-11T15:41:03.637678Z",
          "shell.execute_reply.started": "2023-04-11T15:41:03.629571Z"
        },
        "id": "ssI1H_s7sK_m",
        "trusted": true
      },
      "outputs": [],
      "source": [
        "def testIt():\n",
        "    ''' wandb trainer for initializing runs, loading data and running the entire training/ testing process.'''\n",
        "    wandb.init(project=\"DLAssignment2\", entity=\"cs22m028\")\n",
        "    wandb.run.name=\"config_activation=\"+str(wandb.config.activation)+\"_epochs=\"+str(wandb.config.epochs)+\"_dropOut=\"+str(wandb.config.dropOut)+\"_batchSize=\"+str(wandb.config.batchSize) + \"_filterSize=\"+str(wandb.config.filterSize)+\"_batchNorm=\"+str(wandb.config.batchNorm)+\"_augment=\"+str(wandb.config.augmentation)+\"_learningRate=\"+str(wandb.config.learningRate)\n",
        "    trainDataLoader, valDataLoader, testDataLoader, classLabels = prepData(augment=wandb.config.augmentation)\n",
        "    #trainDataLoader, valDataLoader, testDataLoader, classLabels = prepData(augment=True)\n",
        "    #masterTrainer(trainDataLoader, valDataLoader, testDataLoader, 0.001, 0.00001, [5,5,3,3,3], 32, \"adam\", \"cross\", 0.2, True, \"gelu\", 1)\n",
        "    masterTrainer(trainDataLoader, valDataLoader, testDataLoader, wandb.config.learningRate, wandb.config.kernels, wandb.config.filterSize, wandb.config.dropOut, wandb.config.batchNorm, wandb.config.activation, wandb.config.factor, wandb.config.epochs)\n",
        "    #masterTrainer(trainDataLoader, valDataLoader, testDataLoader, config.wandb.learningRate, config.wandb.decay, config.wandb.kernels, config.wandb.layerSize, config.wandb.dropOut, config.wandb.batchNorm, config.wandb.activation, config.wandb.factor)"
      ]
    },
    {
      "cell_type": "markdown",
      "metadata": {
        "id": "L3Stj8xKVEd8"
      },
      "source": [
        "Here, the possible parameters for the sweeps have been swapped by the best parameters only, and therefore, only one run will happen and the images will get logged.\n"
      ]
    },
    {
      "cell_type": "code",
      "execution_count": null,
      "metadata": {
        "colab": {
          "referenced_widgets": [
            "3638328c43884d05831f3fca63996fb2",
            "bd2f1a3e4ce947fd9c17dc7f27cf209d",
            "eaec743a763049c58c6af49fbeb97ba6",
            "1031b204d0e14c8b85329240b17438a1",
            "2e37e1e7433c41719f04b04a621b5e48",
            "7174a2d623c24af7bedd26ba9f62ccd4",
            "326d15f6a3f24fa6a18a9c2679d672d2",
            "056f46119eeb4a779f1daa69b1b529a1",
            "e0800d616f464e84a1d8fb24a1614361",
            "36e2c1597ce841d4be6f679102afadcc",
            "2a5deed635de4f858c6e92a617f2c298"
          ],
          "base_uri": "https://localhost:8080/",
          "height": 1000
        },
        "execution": {
          "iopub.execute_input": "2023-04-11T15:45:59.945318Z",
          "iopub.status.busy": "2023-04-11T15:45:59.944943Z",
          "iopub.status.idle": "2023-04-11T16:40:57.404083Z",
          "shell.execute_reply": "2023-04-11T16:40:57.402806Z",
          "shell.execute_reply.started": "2023-04-11T15:45:59.945284Z"
        },
        "id": "t_4U_ofB7FJo",
        "outputId": "f2cfba3a-6e82-4639-9e2d-fab77927d49e",
        "trusted": true
      },
      "outputs": [
        {
          "output_type": "stream",
          "name": "stderr",
          "text": [
            "\u001b[34m\u001b[1mwandb\u001b[0m: Currently logged in as: \u001b[33mcs22m028\u001b[0m. Use \u001b[1m`wandb login --relogin`\u001b[0m to force relogin\n"
          ]
        },
        {
          "output_type": "stream",
          "name": "stdout",
          "text": [
            "Create sweep with ID: enbpitlx\n",
            "Sweep URL: https://wandb.ai/cs22m028/DLAssignment2/sweeps/enbpitlx\n"
          ]
        },
        {
          "output_type": "stream",
          "name": "stderr",
          "text": [
            "\u001b[34m\u001b[1mwandb\u001b[0m: Agent Starting Run: c5wvtxjp with config:\n",
            "\u001b[34m\u001b[1mwandb\u001b[0m: \tactivation: mish\n",
            "\u001b[34m\u001b[1mwandb\u001b[0m: \taugmentation: True\n",
            "\u001b[34m\u001b[1mwandb\u001b[0m: \tbatchNorm: True\n",
            "\u001b[34m\u001b[1mwandb\u001b[0m: \tbatchSize: 32\n",
            "\u001b[34m\u001b[1mwandb\u001b[0m: \tdropOut: 0.2\n",
            "\u001b[34m\u001b[1mwandb\u001b[0m: \tepochs: 20\n",
            "\u001b[34m\u001b[1mwandb\u001b[0m: \tfactor: 2\n",
            "\u001b[34m\u001b[1mwandb\u001b[0m: \tfilterSize: 32\n",
            "\u001b[34m\u001b[1mwandb\u001b[0m: \tkernels: [5, 5, 3, 3, 3]\n",
            "\u001b[34m\u001b[1mwandb\u001b[0m: \tlearningRate: 0.0001\n",
            "\u001b[34m\u001b[1mwandb\u001b[0m: \u001b[33mWARNING\u001b[0m Ignored wandb.init() arg project when running a sweep.\n",
            "\u001b[34m\u001b[1mwandb\u001b[0m: \u001b[33mWARNING\u001b[0m Ignored wandb.init() arg entity when running a sweep.\n"
          ]
        },
        {
          "output_type": "display_data",
          "data": {
            "text/plain": [
              "<IPython.core.display.HTML object>"
            ],
            "text/html": [
              "Tracking run with wandb version 0.14.2"
            ]
          },
          "metadata": {}
        },
        {
          "output_type": "display_data",
          "data": {
            "text/plain": [
              "<IPython.core.display.HTML object>"
            ],
            "text/html": [
              "Run data is saved locally in <code>/content/wandb/run-20230412_122005-c5wvtxjp</code>"
            ]
          },
          "metadata": {}
        },
        {
          "output_type": "display_data",
          "data": {
            "text/plain": [
              "<IPython.core.display.HTML object>"
            ],
            "text/html": [
              "Syncing run <strong><a href='https://wandb.ai/cs22m028/DLAssignment2/runs/c5wvtxjp' target=\"_blank\">rare-sweep-1</a></strong> to <a href='https://wandb.ai/cs22m028/DLAssignment2' target=\"_blank\">Weights & Biases</a> (<a href='https://wandb.me/run' target=\"_blank\">docs</a>)<br/>Sweep page: <a href='https://wandb.ai/cs22m028/DLAssignment2/sweeps/enbpitlx' target=\"_blank\">https://wandb.ai/cs22m028/DLAssignment2/sweeps/enbpitlx</a>"
            ]
          },
          "metadata": {}
        },
        {
          "output_type": "display_data",
          "data": {
            "text/plain": [
              "<IPython.core.display.HTML object>"
            ],
            "text/html": [
              " View project at <a href='https://wandb.ai/cs22m028/DLAssignment2' target=\"_blank\">https://wandb.ai/cs22m028/DLAssignment2</a>"
            ]
          },
          "metadata": {}
        },
        {
          "output_type": "display_data",
          "data": {
            "text/plain": [
              "<IPython.core.display.HTML object>"
            ],
            "text/html": [
              " View sweep at <a href='https://wandb.ai/cs22m028/DLAssignment2/sweeps/enbpitlx' target=\"_blank\">https://wandb.ai/cs22m028/DLAssignment2/sweeps/enbpitlx</a>"
            ]
          },
          "metadata": {}
        },
        {
          "output_type": "display_data",
          "data": {
            "text/plain": [
              "<IPython.core.display.HTML object>"
            ],
            "text/html": [
              " View run at <a href='https://wandb.ai/cs22m028/DLAssignment2/runs/c5wvtxjp' target=\"_blank\">https://wandb.ai/cs22m028/DLAssignment2/runs/c5wvtxjp</a>"
            ]
          },
          "metadata": {}
        },
        {
          "output_type": "stream",
          "name": "stdout",
          "text": [
            "loading the data into tensors ==============================\n",
            "train data : Dataset ImageFolder\n",
            "    Number of datapoints: 9999\n",
            "    Root location: inaturalist_12K/train\n",
            "    StandardTransform\n",
            "Transform: Compose(\n",
            "               Resize(size=(128, 128), interpolation=bilinear, max_size=None, antialias=warn)\n",
            "               RandomHorizontalFlip(p=0.5)\n",
            "               RandomVerticalFlip(p=0.2)\n",
            "               ToTensor()\n",
            "           ) and test data : Dataset ImageFolder\n",
            "    Number of datapoints: 2000\n",
            "    Root location: inaturalist_12K/val\n",
            "    StandardTransform\n",
            "Transform: Compose(\n",
            "               Resize(size=(128, 128), interpolation=bilinear, max_size=None, antialias=warn)\n",
            "               RandomHorizontalFlip(p=0.5)\n",
            "               RandomVerticalFlip(p=0.2)\n",
            "               ToTensor()\n",
            "           )\n",
            "splitting into train and val ================================\n",
            "wrapping into train loader ==================================\n",
            "loaders created for faster loading ===========================\n"
          ]
        },
        {
          "output_type": "stream",
          "name": "stderr",
          "text": [
            "/usr/local/lib/python3.9/dist-packages/torch/nn/modules/lazy.py:180: UserWarning: Lazy modules are a new feature under heavy development so changes to the API or functionality can happen at any moment.\n",
            "  warnings.warn('Lazy modules are a new feature under heavy development '\n"
          ]
        },
        {
          "output_type": "stream",
          "name": "stdout",
          "text": [
            "CNNModel(\n",
            "  (conv_blocks): ModuleList(\n",
            "    (0): Conv2d(3, 32, kernel_size=(5, 5), stride=(1, 1), padding=(2, 2))\n",
            "    (1): Conv2d(32, 64, kernel_size=(5, 5), stride=(1, 1), padding=(2, 2))\n",
            "    (2-4): 3 x Conv2d(64, 64, kernel_size=(3, 3), stride=(1, 1), padding=(2, 2))\n",
            "  )\n",
            "  (batch_norms): ModuleList(\n",
            "    (0): BatchNorm2d(32, eps=1e-05, momentum=0.1, affine=True, track_running_stats=True)\n",
            "    (1-4): 4 x BatchNorm2d(64, eps=1e-05, momentum=0.1, affine=True, track_running_stats=True)\n",
            "  )\n",
            "  (activate): Mish()\n",
            "  (pool): MaxPool2d(kernel_size=2, stride=2, padding=0, dilation=1, ceil_mode=False)\n",
            "  (drop): Dropout(p=0.2, inplace=False)\n",
            "  (DenseBlock): Sequential(\n",
            "    (0): Flatten(start_dim=1, end_dim=-1)\n",
            "    (1): LazyLinear(in_features=0, out_features=1024, bias=True)\n",
            "    (2): Dropout(p=0.2, inplace=False)\n",
            "    (3): Linear(in_features=1024, out_features=10, bias=True)\n",
            "  )\n",
            ")\n"
          ]
        },
        {
          "output_type": "display_data",
          "data": {
            "text/plain": [
              "  0%|          | 0/20 [00:00<?, ?it/s]"
            ],
            "application/vnd.jupyter.widget-view+json": {
              "version_major": 2,
              "version_minor": 0,
              "model_id": "3638328c43884d05831f3fca63996fb2"
            }
          },
          "metadata": {}
        },
        {
          "output_type": "stream",
          "name": "stdout",
          "text": [
            "went through 0/250 samples\n",
            "went through 50/250 samples\n",
            "went through 100/250 samples\n",
            "went through 150/250 samples\n",
            "went through 200/250 samples\n",
            "Train loss: 2.147568702697754, Train accuracy: 23.7875, validation loss: 2.1115660667419434, validation accuracy: 25.479497354497354\n",
            "\n",
            "went through 0/250 samples\n",
            "went through 50/250 samples\n",
            "went through 100/250 samples\n",
            "went through 150/250 samples\n",
            "went through 200/250 samples\n"
          ]
        }
      ],
      "source": [
        "if __name__ == '__main__':\n",
        "    wandb.login()\n",
        "    sweep_config = {\n",
        "        'method': 'bayes'\n",
        "        }\n",
        "\n",
        "    metric = {\n",
        "        'name': 'val_acc',\n",
        "        'goal': 'maximize'   \n",
        "        }\n",
        "\n",
        "    sweep_config['metric'] = metric\n",
        "\n",
        "\n",
        "    # initialize the dictionaty with only the best parameters.\n",
        "\n",
        "    parameters_dict = {\n",
        "        'epochs' : {\n",
        "            'values':[20]\n",
        "        },\n",
        "        'factor':{\n",
        "            'values':[2]},\n",
        "        'filterSize': {\n",
        "            'values': [32]\n",
        "            },\n",
        "        'dropOut' : {\n",
        "            'values' : [0.2]\n",
        "            },\n",
        "        'batchSize' : {\n",
        "            'values' : [32]\n",
        "            },\n",
        "        'activation' : {\n",
        "            'values' : ['mish']\n",
        "            },\n",
        "        'augmentation' : {\n",
        "            'values':[True]\n",
        "        },\n",
        "        'batchNorm' : {\n",
        "            'values' : [True]\n",
        "            },\n",
        "        'kernels' : {\n",
        "            'values' : [[5, 5, 3, 3, 3]]\n",
        "            },\n",
        "        'learningRate' : {\n",
        "            'values' : [0.0001]\n",
        "         }\n",
        "        }\n",
        "\n",
        "    sweep_config['parameters'] = parameters_dict\n",
        "\n",
        "    # intitialize sweep id.\n",
        "    sweep_id = wandb.sweep(sweep_config, project= \"DLAssignment2\")\n",
        "    wandb.agent(sweep_id,project= \"DLAssignment2\" , function = testIt)"
      ]
    }
  ],
  "metadata": {
    "accelerator": "GPU",
    "colab": {
      "provenance": []
    },
    "gpuClass": "standard",
    "kernelspec": {
      "display_name": "Python 3",
      "language": "python",
      "name": "python3"
    },
    "language_info": {
      "codemirror_mode": {
        "name": "ipython",
        "version": 3
      },
      "file_extension": ".py",
      "mimetype": "text/x-python",
      "name": "python",
      "nbconvert_exporter": "python",
      "pygments_lexer": "ipython3",
      "version": "3.7.12"
    },
    "widgets": {
      "application/vnd.jupyter.widget-state+json": {
        "3638328c43884d05831f3fca63996fb2": {
          "model_module": "@jupyter-widgets/controls",
          "model_name": "HBoxModel",
          "model_module_version": "1.5.0",
          "state": {
            "_dom_classes": [],
            "_model_module": "@jupyter-widgets/controls",
            "_model_module_version": "1.5.0",
            "_model_name": "HBoxModel",
            "_view_count": null,
            "_view_module": "@jupyter-widgets/controls",
            "_view_module_version": "1.5.0",
            "_view_name": "HBoxView",
            "box_style": "",
            "children": [
              "IPY_MODEL_bd2f1a3e4ce947fd9c17dc7f27cf209d",
              "IPY_MODEL_eaec743a763049c58c6af49fbeb97ba6",
              "IPY_MODEL_1031b204d0e14c8b85329240b17438a1"
            ],
            "layout": "IPY_MODEL_2e37e1e7433c41719f04b04a621b5e48"
          }
        },
        "bd2f1a3e4ce947fd9c17dc7f27cf209d": {
          "model_module": "@jupyter-widgets/controls",
          "model_name": "HTMLModel",
          "model_module_version": "1.5.0",
          "state": {
            "_dom_classes": [],
            "_model_module": "@jupyter-widgets/controls",
            "_model_module_version": "1.5.0",
            "_model_name": "HTMLModel",
            "_view_count": null,
            "_view_module": "@jupyter-widgets/controls",
            "_view_module_version": "1.5.0",
            "_view_name": "HTMLView",
            "description": "",
            "description_tooltip": null,
            "layout": "IPY_MODEL_7174a2d623c24af7bedd26ba9f62ccd4",
            "placeholder": "​",
            "style": "IPY_MODEL_326d15f6a3f24fa6a18a9c2679d672d2",
            "value": "  5%"
          }
        },
        "eaec743a763049c58c6af49fbeb97ba6": {
          "model_module": "@jupyter-widgets/controls",
          "model_name": "FloatProgressModel",
          "model_module_version": "1.5.0",
          "state": {
            "_dom_classes": [],
            "_model_module": "@jupyter-widgets/controls",
            "_model_module_version": "1.5.0",
            "_model_name": "FloatProgressModel",
            "_view_count": null,
            "_view_module": "@jupyter-widgets/controls",
            "_view_module_version": "1.5.0",
            "_view_name": "ProgressView",
            "bar_style": "",
            "description": "",
            "description_tooltip": null,
            "layout": "IPY_MODEL_056f46119eeb4a779f1daa69b1b529a1",
            "max": 20,
            "min": 0,
            "orientation": "horizontal",
            "style": "IPY_MODEL_e0800d616f464e84a1d8fb24a1614361",
            "value": 1
          }
        },
        "1031b204d0e14c8b85329240b17438a1": {
          "model_module": "@jupyter-widgets/controls",
          "model_name": "HTMLModel",
          "model_module_version": "1.5.0",
          "state": {
            "_dom_classes": [],
            "_model_module": "@jupyter-widgets/controls",
            "_model_module_version": "1.5.0",
            "_model_name": "HTMLModel",
            "_view_count": null,
            "_view_module": "@jupyter-widgets/controls",
            "_view_module_version": "1.5.0",
            "_view_name": "HTMLView",
            "description": "",
            "description_tooltip": null,
            "layout": "IPY_MODEL_36e2c1597ce841d4be6f679102afadcc",
            "placeholder": "​",
            "style": "IPY_MODEL_2a5deed635de4f858c6e92a617f2c298",
            "value": " 1/20 [02:47&lt;52:55, 167.13s/it]"
          }
        },
        "2e37e1e7433c41719f04b04a621b5e48": {
          "model_module": "@jupyter-widgets/base",
          "model_name": "LayoutModel",
          "model_module_version": "1.2.0",
          "state": {
            "_model_module": "@jupyter-widgets/base",
            "_model_module_version": "1.2.0",
            "_model_name": "LayoutModel",
            "_view_count": null,
            "_view_module": "@jupyter-widgets/base",
            "_view_module_version": "1.2.0",
            "_view_name": "LayoutView",
            "align_content": null,
            "align_items": null,
            "align_self": null,
            "border": null,
            "bottom": null,
            "display": null,
            "flex": null,
            "flex_flow": null,
            "grid_area": null,
            "grid_auto_columns": null,
            "grid_auto_flow": null,
            "grid_auto_rows": null,
            "grid_column": null,
            "grid_gap": null,
            "grid_row": null,
            "grid_template_areas": null,
            "grid_template_columns": null,
            "grid_template_rows": null,
            "height": null,
            "justify_content": null,
            "justify_items": null,
            "left": null,
            "margin": null,
            "max_height": null,
            "max_width": null,
            "min_height": null,
            "min_width": null,
            "object_fit": null,
            "object_position": null,
            "order": null,
            "overflow": null,
            "overflow_x": null,
            "overflow_y": null,
            "padding": null,
            "right": null,
            "top": null,
            "visibility": null,
            "width": null
          }
        },
        "7174a2d623c24af7bedd26ba9f62ccd4": {
          "model_module": "@jupyter-widgets/base",
          "model_name": "LayoutModel",
          "model_module_version": "1.2.0",
          "state": {
            "_model_module": "@jupyter-widgets/base",
            "_model_module_version": "1.2.0",
            "_model_name": "LayoutModel",
            "_view_count": null,
            "_view_module": "@jupyter-widgets/base",
            "_view_module_version": "1.2.0",
            "_view_name": "LayoutView",
            "align_content": null,
            "align_items": null,
            "align_self": null,
            "border": null,
            "bottom": null,
            "display": null,
            "flex": null,
            "flex_flow": null,
            "grid_area": null,
            "grid_auto_columns": null,
            "grid_auto_flow": null,
            "grid_auto_rows": null,
            "grid_column": null,
            "grid_gap": null,
            "grid_row": null,
            "grid_template_areas": null,
            "grid_template_columns": null,
            "grid_template_rows": null,
            "height": null,
            "justify_content": null,
            "justify_items": null,
            "left": null,
            "margin": null,
            "max_height": null,
            "max_width": null,
            "min_height": null,
            "min_width": null,
            "object_fit": null,
            "object_position": null,
            "order": null,
            "overflow": null,
            "overflow_x": null,
            "overflow_y": null,
            "padding": null,
            "right": null,
            "top": null,
            "visibility": null,
            "width": null
          }
        },
        "326d15f6a3f24fa6a18a9c2679d672d2": {
          "model_module": "@jupyter-widgets/controls",
          "model_name": "DescriptionStyleModel",
          "model_module_version": "1.5.0",
          "state": {
            "_model_module": "@jupyter-widgets/controls",
            "_model_module_version": "1.5.0",
            "_model_name": "DescriptionStyleModel",
            "_view_count": null,
            "_view_module": "@jupyter-widgets/base",
            "_view_module_version": "1.2.0",
            "_view_name": "StyleView",
            "description_width": ""
          }
        },
        "056f46119eeb4a779f1daa69b1b529a1": {
          "model_module": "@jupyter-widgets/base",
          "model_name": "LayoutModel",
          "model_module_version": "1.2.0",
          "state": {
            "_model_module": "@jupyter-widgets/base",
            "_model_module_version": "1.2.0",
            "_model_name": "LayoutModel",
            "_view_count": null,
            "_view_module": "@jupyter-widgets/base",
            "_view_module_version": "1.2.0",
            "_view_name": "LayoutView",
            "align_content": null,
            "align_items": null,
            "align_self": null,
            "border": null,
            "bottom": null,
            "display": null,
            "flex": null,
            "flex_flow": null,
            "grid_area": null,
            "grid_auto_columns": null,
            "grid_auto_flow": null,
            "grid_auto_rows": null,
            "grid_column": null,
            "grid_gap": null,
            "grid_row": null,
            "grid_template_areas": null,
            "grid_template_columns": null,
            "grid_template_rows": null,
            "height": null,
            "justify_content": null,
            "justify_items": null,
            "left": null,
            "margin": null,
            "max_height": null,
            "max_width": null,
            "min_height": null,
            "min_width": null,
            "object_fit": null,
            "object_position": null,
            "order": null,
            "overflow": null,
            "overflow_x": null,
            "overflow_y": null,
            "padding": null,
            "right": null,
            "top": null,
            "visibility": null,
            "width": null
          }
        },
        "e0800d616f464e84a1d8fb24a1614361": {
          "model_module": "@jupyter-widgets/controls",
          "model_name": "ProgressStyleModel",
          "model_module_version": "1.5.0",
          "state": {
            "_model_module": "@jupyter-widgets/controls",
            "_model_module_version": "1.5.0",
            "_model_name": "ProgressStyleModel",
            "_view_count": null,
            "_view_module": "@jupyter-widgets/base",
            "_view_module_version": "1.2.0",
            "_view_name": "StyleView",
            "bar_color": null,
            "description_width": ""
          }
        },
        "36e2c1597ce841d4be6f679102afadcc": {
          "model_module": "@jupyter-widgets/base",
          "model_name": "LayoutModel",
          "model_module_version": "1.2.0",
          "state": {
            "_model_module": "@jupyter-widgets/base",
            "_model_module_version": "1.2.0",
            "_model_name": "LayoutModel",
            "_view_count": null,
            "_view_module": "@jupyter-widgets/base",
            "_view_module_version": "1.2.0",
            "_view_name": "LayoutView",
            "align_content": null,
            "align_items": null,
            "align_self": null,
            "border": null,
            "bottom": null,
            "display": null,
            "flex": null,
            "flex_flow": null,
            "grid_area": null,
            "grid_auto_columns": null,
            "grid_auto_flow": null,
            "grid_auto_rows": null,
            "grid_column": null,
            "grid_gap": null,
            "grid_row": null,
            "grid_template_areas": null,
            "grid_template_columns": null,
            "grid_template_rows": null,
            "height": null,
            "justify_content": null,
            "justify_items": null,
            "left": null,
            "margin": null,
            "max_height": null,
            "max_width": null,
            "min_height": null,
            "min_width": null,
            "object_fit": null,
            "object_position": null,
            "order": null,
            "overflow": null,
            "overflow_x": null,
            "overflow_y": null,
            "padding": null,
            "right": null,
            "top": null,
            "visibility": null,
            "width": null
          }
        },
        "2a5deed635de4f858c6e92a617f2c298": {
          "model_module": "@jupyter-widgets/controls",
          "model_name": "DescriptionStyleModel",
          "model_module_version": "1.5.0",
          "state": {
            "_model_module": "@jupyter-widgets/controls",
            "_model_module_version": "1.5.0",
            "_model_name": "DescriptionStyleModel",
            "_view_count": null,
            "_view_module": "@jupyter-widgets/base",
            "_view_module_version": "1.2.0",
            "_view_name": "StyleView",
            "description_width": ""
          }
        }
      }
    }
  },
  "nbformat": 4,
  "nbformat_minor": 0
}